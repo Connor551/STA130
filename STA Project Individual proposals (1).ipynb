{
 "cells": [
  {
   "cell_type": "markdown",
   "id": "a2cad34e",
   "metadata": {},
   "source": [
    "Topic 1: \n",
    "    Is there a positive correlation between CONNECTION_activities_visited_friends_p3m and WELLNESS_subjective_happiness_scale_peers? For each category in CONNECTION_activities_visited_friends_p3m we can find and compare each categories estimated population mean for WELLNESS_subjective_happiness_scale_peers. Comparing these estimated population means can help us understand if there is a correlation between how often someone visits their friends and their subjective happiness from peers. For the visualizations we could include a histogram for each of the bootstrapped means since the method we would use is bootstrapping. To bootstrap these means we will use python to create these graphs and to calculate the 95% confidence interval that we will comparing as the estimated population mean for people in each category of how often people visit their friends. To understand if there is a positive correlation between these questions we can see if as there is an increase in how often people visit friends the estimated population mean increases aswell. We should assume the sample given is a well-distributed representation of the population since the sample given could influence some changes in these estimated population means. I hypothesize that there will be a positive correlation since I'd think visiting friends would influence your happiness to raise.\n",
    " \n",
    "Topic 2: \n",
    "    Is there any correlation between CONNECTION_activities_talked_hobbies_p3m and WELLNESS_self_rated_physical_health? For each category in CONNECTION_activities_talked_hobbies_p3m we can collect the data and create visualizations representing all the data for WELLNESS_self_rated_physical_health within these categories. We can use this data to find the distribution within the data for each category helping us to create multiple visualizations. The visualization that I think wil be most effective for this type of data will be to create a violin plot (2-sided KDE) because it will best show the distribution of the data for each categpry and is easy to understand. To understand if there is a correlation we can line up the violin plots from least amount talked about their hobbies to the most talked about their hobbies and see if the distribution goes closer to a better self rated physical health or worse as you go through the graphs. Since I am not estimating the population in this topic we should assume that the sample is a great example of the population if we want to use it for the population. However, if we are only caring about the sample given then this will show a good representation of this correlation. I hypothesize that there will be a correlation since I'd think as the amount that people talk about their hobbies increases there will be an increase in peoples self rated physical health.\n",
    "\n",
    "\n",
    "Topic 3: \n",
    "    Is there any correlation between COVID_prevention_distancing and LONELY_change_pre_covid? For each category in COVID_prevention_distancing we can create visualizations of the distribution from the given data in LONELY_change_pre_covid. We can use these visualizations to understand if there is evidence of a correlation or not. We can find the distribution of the data within each category of how much people think their loneliness changed because of covid for each category in prevention distancing. I think using a violin plot will be the best to represent this data as it is easy to understand the distribution of the data. This is helpful because I want to put these beside eachother to clearly show if there is any correlation between peoples prevention of distancing during covid and peoples change in loneliness pre covid. We will be able to see a correlation if the violin plot distribution moves constantly moves towards more or less lonliness as there is more prevention is distancing during covid. Since I am not estimating the population in this topic we should assume that the sample is a great example of the population if we want to use it for the population. However, if we are only caring about the sample given then this will show a good representation of this correlation.Since I am not estimating the population in this topic we should assume that the sample is a great example of the population if we want to use it for the population. However, if we are only caring about the sample given then this will show a good representation of this correlation. I hypothesize that there will be a correlation since I'd think as the prevention of distancing during covid increases peoples' loneliness change pre covid will decrease.\n",
    "    \n",
    "    \n",
    "    \n",
    "    I know you have already created the groups but I would like to be in a group with Jayla.\n",
    "    I'm sorry this is late."
   ]
  }
 ],
 "metadata": {
  "kernelspec": {
   "display_name": "Python 3 (ipykernel)",
   "language": "python",
   "name": "python3"
  },
  "language_info": {
   "codemirror_mode": {
    "name": "ipython",
    "version": 3
   },
   "file_extension": ".py",
   "mimetype": "text/x-python",
   "name": "python",
   "nbconvert_exporter": "python",
   "pygments_lexer": "ipython3",
   "version": "3.11.6"
  }
 },
 "nbformat": 4,
 "nbformat_minor": 5
}
